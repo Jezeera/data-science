{
  "nbformat": 4,
  "nbformat_minor": 0,
  "metadata": {
    "colab": {
      "provenance": []
    },
    "kernelspec": {
      "name": "python3",
      "display_name": "Python 3"
    },
    "language_info": {
      "name": "python"
    }
  },
  "cells": [
    {
      "cell_type": "code",
      "execution_count": 1,
      "metadata": {
        "id": "b2ZlRasHizUM"
      },
      "outputs": [],
      "source": [
        "#creating a banking system"
      ]
    },
    {
      "cell_type": "code",
      "source": [
        "import random"
      ],
      "metadata": {
        "id": "khmeYP7zjX_9"
      },
      "execution_count": 2,
      "outputs": []
    },
    {
      "cell_type": "code",
      "source": [
        "class Bank_Account:\n",
        "    def __init__(self):\n",
        "        self.balance=0\n",
        "        print(\"Hello!! Welocme to Banking System\")\n",
        "    def open_acc(self):\n",
        "        name = input(\"Please enter your name:\")\n",
        "        print(\"Your name:\", name)\n",
        "        number = str(random.randint(1, 1000000))\n",
        "        print(\"your account number:\", number)\n",
        "    def deposit(self):\n",
        "        amount=float(input(\"Enter amount to be deposited:\"))\n",
        "        self.balance+= amount\n",
        "        print(\"\\n You deposited:\", amount)\n",
        "    def withdraw(self):\n",
        "        amount=float(input(\"Enter amount to be withdrawn: \"))\n",
        "        if self.balance>=amount:\n",
        "            self.balance<=amount\n",
        "            print(\"\\n You withdrew:\",amount)\n",
        "        else:\n",
        "            print(\"\\n Insufficient balance\")\n",
        "    def display(self):\n",
        "        print(\"\\n Net Available balance=\",self.balance)\n",
        "    def exit(self):\n",
        "        print(\"Thank You For Using Our Banking System\")"
      ],
      "metadata": {
        "id": "Q9hh6-Q2jo2m"
      },
      "execution_count": 4,
      "outputs": []
    },
    {
      "cell_type": "code",
      "source": [
        "s=Bank_Account()\n",
        "s.open_acc()\n",
        "s.deposit()\n",
        "s.withdraw()\n",
        "s.display()\n",
        "s.exit()"
      ],
      "metadata": {
        "id": "EsRxrmDWjtib"
      },
      "execution_count": null,
      "outputs": []
    }
  ]
}