{
  "cells": [
    {
      "cell_type": "code",
      "execution_count": null,
      "metadata": {
        "colab": {
          "background_save": true
        },
        "id": "b2ZlRasHizUM"
      },
      "outputs": [],
      "source": [
        "#creating a banking system"
      ]
    },
    {
      "cell_type": "code",
      "execution_count": 5,
      "metadata": {
        "id": "khmeYP7zjX_9"
      },
      "outputs": [],
      "source": [
        "import random"
      ]
    },
    {
      "cell_type": "code",
      "source": [
        "class Bank_Account:\n",
        "    def __init__(self):\n",
        "        self.balance=0\n",
        "        print(\"Hello!! Welocme to Banking System\")\n",
        "    def open_acc(self):\n",
        "        name = input(\"Please enter your name:\")\n",
        "        print(\"Your name:\", name)\n",
        "        number = str(random.randint(1, 1000000))\n",
        "        print(\"your account number:\", number)\n",
        "    def deposit(self):\n",
        "        amount=float(input(\"Enter amount to be deposited:\"))\n",
        "        self.balance+= amount\n",
        "        print(\"\\n You deposited:\", amount)\n",
        "    def withdraw(self):\n",
        "        amount=float(input(\"Enter amount to be withdrawn: \"))\n",
        "        if self.balance>=amount:\n",
        "            self.balance<=amount\n",
        "            print(\"\\n You withdrew:\",amount)\n",
        "        else:\n",
        "            print(\"\\n Insufficient balance\")\n",
        "    def display(self):\n",
        "        print(\"\\n Net Available balance=\",self.balance)\n",
        "    def exit(self):\n",
        "        print(\"Thank You For Using Our Banking System\")"
      ],
      "metadata": {
        "id": "5FTcCoywmepq"
      },
      "execution_count": 6,
      "outputs": []
    },
    {
      "cell_type": "code",
      "source": [
        "s=Bank_Account()\n",
        "s.open_acc()\n",
        "s.deposit()\n",
        "s.withdraw()\n",
        "s.display()\n",
        "s.exit()"
      ],
      "metadata": {
        "colab": {
          "base_uri": "https://localhost:8080/"
        },
        "id": "zHvrPFBqm8Et",
        "outputId": "7843f498-5678-4afb-8a0c-62dce6685444"
      },
      "execution_count": null,
      "outputs": [
        {
          "output_type": "stream",
          "name": "stdout",
          "text": [
            "Hello!! Welocme to Banking System\n"
          ]
        }
      ]
    },
    {
      "cell_type": "code",
      "source": [],
      "metadata": {
        "id": "XsP6yzUhnCLi"
      },
      "execution_count": null,
      "outputs": []
    }
  ],
  "metadata": {
    "colab": {
      "provenance": []
    },
    "kernelspec": {
      "display_name": "Python 3",
      "name": "python3"
    },
    "language_info": {
      "name": "python"
    }
  },
  "nbformat": 4,
  "nbformat_minor": 0
}