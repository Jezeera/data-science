{
 "cells": [
  {
   "cell_type": "code",
   "execution_count": 4,
   "id": "bee0c766-1706-4214-8f17-d0a2828320a2",
   "metadata": {},
   "outputs": [],
   "source": [
    "import random\n",
    "      "
   ]
  },
  {
   "cell_type": "code",
   "execution_count": 2,
   "id": "e88dc8fe-e5c5-448b-b39a-8dec22040550",
   "metadata": {},
   "outputs": [],
   "source": [
    "class Bank_Account:\n",
    "    def __init__(self):\n",
    "        self.balance=0\n",
    "        print(\"Hello!! Welocme to Banking System\")\n",
    "    def open_acc(self):\n",
    "        name = input(\"Please enter your name:\")\n",
    "        print(\"Your name:\", name)\n",
    "        number = str(random.randint(1, 1000000))\n",
    "        print(\"your account number:\", number)\n",
    "    def deposit(self):\n",
    "        amount=float(input(\"Enter amount to be deposited:\"))\n",
    "        self.balance+= amount\n",
    "        print(\"\\n You deposited:\", amount)\n",
    "    def withdraw(self):\n",
    "        amount=float(input(\"Enter amount to be withdrawn: \"))\n",
    "        if self.balance>=amount:\n",
    "            self.balance<=amount\n",
    "            print(\"\\n You withdrew:\",amount)\n",
    "        else:\n",
    "            print(\"\\n Insufficient balance\")\n",
    "    def display(self):\n",
    "        print(\"\\n Net Available balance=\",self.balance)\n",
    "    def exit(self):\n",
    "        print(\"Thank You For Using Our Banking System\")"
   ]
  },
  {
   "cell_type": "code",
   "execution_count": 3,
   "id": "44b506d0-f704-4f73-93e6-51d14ddda5b7",
   "metadata": {},
   "outputs": [
    {
     "name": "stdout",
     "output_type": "stream",
     "text": [
      "Hello!! Welocme to Banking System\n"
     ]
    },
    {
     "name": "stdin",
     "output_type": "stream",
     "text": [
      "Please enter your name: Jezeera\n"
     ]
    },
    {
     "name": "stdout",
     "output_type": "stream",
     "text": [
      "Your name: Jezeera\n"
     ]
    },
    {
     "ename": "NameError",
     "evalue": "name 'random' is not defined",
     "output_type": "error",
     "traceback": [
      "\u001b[1;31m---------------------------------------------------------------------------\u001b[0m",
      "\u001b[1;31mNameError\u001b[0m                                 Traceback (most recent call last)",
      "Cell \u001b[1;32mIn[3], line 2\u001b[0m\n\u001b[0;32m      1\u001b[0m s\u001b[38;5;241m=\u001b[39mBank_Account()\n\u001b[1;32m----> 2\u001b[0m s\u001b[38;5;241m.\u001b[39mopen_acc()\n\u001b[0;32m      3\u001b[0m s\u001b[38;5;241m.\u001b[39mdeposit()\n\u001b[0;32m      4\u001b[0m s\u001b[38;5;241m.\u001b[39mwithdraw()\n",
      "Cell \u001b[1;32mIn[2], line 8\u001b[0m, in \u001b[0;36mBank_Account.open_acc\u001b[1;34m(self)\u001b[0m\n\u001b[0;32m      6\u001b[0m name \u001b[38;5;241m=\u001b[39m \u001b[38;5;28minput\u001b[39m(\u001b[38;5;124m\"\u001b[39m\u001b[38;5;124mPlease enter your name:\u001b[39m\u001b[38;5;124m\"\u001b[39m)\n\u001b[0;32m      7\u001b[0m \u001b[38;5;28mprint\u001b[39m(\u001b[38;5;124m\"\u001b[39m\u001b[38;5;124mYour name:\u001b[39m\u001b[38;5;124m\"\u001b[39m, name)\n\u001b[1;32m----> 8\u001b[0m number \u001b[38;5;241m=\u001b[39m \u001b[38;5;28mstr\u001b[39m(random\u001b[38;5;241m.\u001b[39mrandint(\u001b[38;5;241m1\u001b[39m, \u001b[38;5;241m1000000\u001b[39m))\n\u001b[0;32m      9\u001b[0m \u001b[38;5;28mprint\u001b[39m(\u001b[38;5;124m\"\u001b[39m\u001b[38;5;124myour account number:\u001b[39m\u001b[38;5;124m\"\u001b[39m, number)\n",
      "\u001b[1;31mNameError\u001b[0m: name 'random' is not defined"
     ]
    }
   ],
   "source": [
    "s=Bank_Account()\n",
    "s.open_acc()\n",
    "s.deposit()\n",
    "s.withdraw()\n",
    "s.display()\n",
    "s.exit()"
   ]
  },
  {
   "cell_type": "code",
   "execution_count": null,
   "id": "5af3ba44-350c-4800-a0e2-6b2e7eaf757f",
   "metadata": {},
   "outputs": [],
   "source": []
  }
 ],
 "metadata": {
  "kernelspec": {
   "display_name": "Python 3 (ipykernel)",
   "language": "python",
   "name": "python3"
  },
  "language_info": {
   "codemirror_mode": {
    "name": "ipython",
    "version": 3
   },
   "file_extension": ".py",
   "mimetype": "text/x-python",
   "name": "python",
   "nbconvert_exporter": "python",
   "pygments_lexer": "ipython3",
   "version": "3.11.7"
  }
 },
 "nbformat": 4,
 "nbformat_minor": 5
}
